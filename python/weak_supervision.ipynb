{
 "cells": [
  {
   "cell_type": "code",
   "execution_count": 1,
   "metadata": {
    "collapsed": false
   },
   "outputs": [
    {
     "name": "stderr",
     "output_type": "stream",
     "text": [
      "Using Theano backend.\n",
      "Using gpu device 0: GeForce GTX 660M (CNMeM is enabled with initial size: 15.0% of memory, cuDNN 5105)\n",
      "/Library/Frameworks/Python.framework/Versions/3.5/lib/python3.5/site-packages/theano/sandbox/cuda/__init__.py:600: UserWarning: Your cuDNN version is more recent than the one Theano officially supports. If you see any problems, try updating Theano or downgrading cuDNN to version 5.\n",
      "  warnings.warn(warn)\n"
     ]
    }
   ],
   "source": [
    "from jet_ML_tools import *\n",
    "from data_import import data_import\n",
    "\n",
    "%matplotlib inline\n",
    "import matplotlib.pyplot as plt\n",
    "import matplotlib as mpl\n",
    "import numpy as np"
   ]
  },
  {
   "cell_type": "code",
   "execution_count": 2,
   "metadata": {
    "collapsed": false
   },
   "outputs": [],
   "source": [
    "# specify the inputs for which files to read in\n",
    "n_files = 2\n",
    "n_ev_per_file, s_range = 10000, range(1, 1 + n_files)\n",
    "\n",
    "# read in the data from file\n",
    "nevents = n_files * n_ev_per_file\n",
    "data = data_import(data_type='jetimage', seed_range=s_range, path='../images/')\n",
    "\n",
    "# split the data by quark and gluon\n",
    "X_g_train, X_q_train, X_g_test, X_q_test = data_split(data[:nevents], data[nevents:], val_frac = 0, test_frac = 0.1)"
   ]
  },
  {
   "cell_type": "code",
   "execution_count": 3,
   "metadata": {
    "collapsed": false
   },
   "outputs": [],
   "source": [
    "# Adapted from: github.com/derylucio/weaksupervision\n",
    "\n",
    "from keras.optimizers import Adam\n",
    "\n",
    "# Weak supervision loss function\n",
    "def weak_loss_function(ytrue, ypred):\n",
    "    return K.square(K.sum(ypred[:,1]) - K.sum(ytrue[:,1]))\n",
    "\n",
    "# Generates batches for training with keras\n",
    "def weak_data_generator(X_g, X_q, batch_size = 512, weak = True):\n",
    "    assert len(X_g) == len(X_q), \"Quark and Gluon sample sizes must be the same\"\n",
    "    \n",
    "    g_indx, q_indx, length = 0, 0, len(X_g)\n",
    "    \n",
    "    while True:\n",
    "        # draw a random fraction in 0,1. determine the appropriate number of Q and G\n",
    "        f = np.random.random()\n",
    "        f = .5\n",
    "        n_g, n_q = int(np.floor(batch_size * f)), int(batch_size - np.floor(batch_size * f))\n",
    "          \n",
    "        # read out the appropriate numbers of quark and gluons\n",
    "        samples = np.concatenate((np.roll(X_g, -1 * g_indx, axis = 0)[:n_g], np.roll(X_q, -1 * q_indx, axis = 0)[:n_q]))\n",
    "        labels = to_categorical(np.concatenate((np.zeros(n_g), np.ones(n_q))), 2)\n",
    "                                 \n",
    "        # update quark and gluon iterating indices\n",
    "        g_indx, q_indx = int((g_indx + n_g)%length), int((q_indx + n_q)%length)\n",
    "                                 \n",
    "        # randomly shuffle the batch\n",
    "        perm = np.random.permutation(np.arange(batch_size))\n",
    "        samples = samples[perm]\n",
    "        labels = labels[perm]\n",
    "\n",
    "        yield samples, labels\n",
    "        \n",
    "# Train a network with weak supervision\n",
    "def trainCNN(X_g, X_q, nb_epoch = 10, learning_rate = 0.001, val_frac = 0.1, weak = True):\n",
    "\n",
    "    # perform a train-val split on the data\n",
    "    X_g_train, X_q_train, X_g_val, X_q_val = data_split(X_g, X_q, val_frac = val_frac, test_frac = 0)\n",
    "    \n",
    "    X_vals = np.concatenate((X_g_val, X_q_val))\n",
    "    y_vals = to_categorical(np.concatenate((np.zeros(len(X_g_val)),np.ones(len(X_g_val)))),2)\n",
    "    \n",
    "    # construct the CNN with the following hyperparameters. Parameters based on arXiv:1612.01551\n",
    "    hps = {'img_size': 33, 'nb_conv': [8,4,4], 'nb_filters': [64, 64, 64],\n",
    "           'nb_neurons': 128, 'nb_pool': [2, 2, 2], 'dropout': [.25, .5, .5, .5],\n",
    "           'nb_channels': 1, 'patience': 3, 'out_dim' : 2, 'batch_size' : 10}\n",
    "    \n",
    "    CNN_model = conv_net_construct(hps, compiled = False)\n",
    "    earlystopper = EarlyStopping(monitor=\"val_loss\", patience= hps['patience'])\n",
    "    \n",
    "    if weak:\n",
    "        CNN_model.compile(loss = weak_loss_function, optimizer=Adam(lr=learning_rate), metrics = ['accuracy']) \n",
    "        \n",
    "    else:\n",
    "        CNN_model.compile(loss=\"categorical_crossentropy\", optimizer=Adam(lr=learning_rate), metrics = ['accuracy'])\n",
    "            \n",
    "    CNN_model.summary()\n",
    "    CNN_model.fit_generator(generator = weak_data_generator(X_g_train, X_q_train, hps['batch_size'], weak),\n",
    "                             samples_per_epoch = 2*len(X_g_train), nb_epoch = nb_epoch,\n",
    "                             validation_data = (X_vals, y_vals), callbacks = [earlystopper])\n",
    "\n",
    "    return CNN_model"
   ]
  },
  {
   "cell_type": "code",
   "execution_count": 4,
   "metadata": {
    "collapsed": false
   },
   "outputs": [
    {
     "name": "stdout",
     "output_type": "stream",
     "text": [
      "____________________________________________________________________________________________________\n",
      "Layer (type)                     Output Shape          Param #     Connected to                     \n",
      "====================================================================================================\n",
      "convolution2d_1 (Convolution2D)  (None, 64, 26, 26)    4160        convolution2d_input_1[0][0]      \n",
      "____________________________________________________________________________________________________\n",
      "activation_1 (Activation)        (None, 64, 26, 26)    0           convolution2d_1[0][0]            \n",
      "____________________________________________________________________________________________________\n",
      "maxpooling2d_1 (MaxPooling2D)    (None, 64, 13, 13)    0           activation_1[0][0]               \n",
      "____________________________________________________________________________________________________\n",
      "spatialdropout2d_1 (SpatialDropo (None, 64, 13, 13)    0           maxpooling2d_1[0][0]             \n",
      "____________________________________________________________________________________________________\n",
      "convolution2d_2 (Convolution2D)  (None, 64, 10, 10)    65600       spatialdropout2d_1[0][0]         \n",
      "____________________________________________________________________________________________________\n",
      "activation_2 (Activation)        (None, 64, 10, 10)    0           convolution2d_2[0][0]            \n",
      "____________________________________________________________________________________________________\n",
      "maxpooling2d_2 (MaxPooling2D)    (None, 64, 5, 5)      0           activation_2[0][0]               \n",
      "____________________________________________________________________________________________________\n",
      "spatialdropout2d_2 (SpatialDropo (None, 64, 5, 5)      0           maxpooling2d_2[0][0]             \n",
      "____________________________________________________________________________________________________\n",
      "convolution2d_3 (Convolution2D)  (None, 64, 2, 2)      65600       spatialdropout2d_2[0][0]         \n",
      "____________________________________________________________________________________________________\n",
      "activation_3 (Activation)        (None, 64, 2, 2)      0           convolution2d_3[0][0]            \n",
      "____________________________________________________________________________________________________\n",
      "maxpooling2d_3 (MaxPooling2D)    (None, 64, 1, 1)      0           activation_3[0][0]               \n",
      "____________________________________________________________________________________________________\n",
      "spatialdropout2d_3 (SpatialDropo (None, 64, 1, 1)      0           maxpooling2d_3[0][0]             \n",
      "____________________________________________________________________________________________________\n",
      "flatten_1 (Flatten)              (None, 64)            0           spatialdropout2d_3[0][0]         \n",
      "____________________________________________________________________________________________________\n",
      "dense_1 (Dense)                  (None, 128)           8320        flatten_1[0][0]                  \n",
      "____________________________________________________________________________________________________\n",
      "activation_4 (Activation)        (None, 128)           0           dense_1[0][0]                    \n",
      "____________________________________________________________________________________________________\n",
      "dropout_1 (Dropout)              (None, 128)           0           activation_4[0][0]               \n",
      "____________________________________________________________________________________________________\n",
      "dense_2 (Dense)                  (None, 2)             258         dropout_1[0][0]                  \n",
      "____________________________________________________________________________________________________\n",
      "activation_5 (Activation)        (None, 2)             0           dense_2[0][0]                    \n",
      "====================================================================================================\n",
      "Total params: 143938\n",
      "____________________________________________________________________________________________________\n",
      "Epoch 1/3\n",
      "12160/32400 [==========>...................] - ETA: 313s - loss: 0.0044 - acc: 0.5031"
     ]
    },
    {
     "ename": "KeyboardInterrupt",
     "evalue": "",
     "output_type": "error",
     "traceback": [
      "\u001b[0;31m---------------------------------------------------------------------------\u001b[0m",
      "\u001b[0;31mKeyboardInterrupt\u001b[0m                         Traceback (most recent call last)",
      "\u001b[0;32m<ipython-input-4-637e4fabaa55>\u001b[0m in \u001b[0;36m<module>\u001b[0;34m()\u001b[0m\n\u001b[0;32m----> 1\u001b[0;31m \u001b[0mmodel\u001b[0m \u001b[0;34m=\u001b[0m \u001b[0mtrainCNN\u001b[0m\u001b[0;34m(\u001b[0m\u001b[0mX_g_train\u001b[0m\u001b[0;34m,\u001b[0m \u001b[0mX_q_train\u001b[0m\u001b[0;34m,\u001b[0m \u001b[0mweak\u001b[0m \u001b[0;34m=\u001b[0m \u001b[0;32mTrue\u001b[0m\u001b[0;34m,\u001b[0m \u001b[0mnb_epoch\u001b[0m \u001b[0;34m=\u001b[0m \u001b[0;36m3\u001b[0m\u001b[0;34m)\u001b[0m\u001b[0;34m\u001b[0m\u001b[0m\n\u001b[0m",
      "\u001b[0;32m<ipython-input-3-3d53b0f8edb6>\u001b[0m in \u001b[0;36mtrainCNN\u001b[0;34m(X_g, X_q, nb_epoch, learning_rate, val_frac, weak)\u001b[0m\n\u001b[1;32m     59\u001b[0m     CNN_model.fit_generator(generator = weak_data_generator(X_g_train, X_q_train, hps['batch_size'], weak),\n\u001b[1;32m     60\u001b[0m                              \u001b[0msamples_per_epoch\u001b[0m \u001b[0;34m=\u001b[0m \u001b[0;36m2\u001b[0m\u001b[0;34m*\u001b[0m\u001b[0mlen\u001b[0m\u001b[0;34m(\u001b[0m\u001b[0mX_g_train\u001b[0m\u001b[0;34m)\u001b[0m\u001b[0;34m,\u001b[0m \u001b[0mnb_epoch\u001b[0m \u001b[0;34m=\u001b[0m \u001b[0mnb_epoch\u001b[0m\u001b[0;34m,\u001b[0m\u001b[0;34m\u001b[0m\u001b[0m\n\u001b[0;32m---> 61\u001b[0;31m                              validation_data = (X_vals, y_vals), callbacks = [earlystopper])\n\u001b[0m\u001b[1;32m     62\u001b[0m \u001b[0;34m\u001b[0m\u001b[0m\n\u001b[1;32m     63\u001b[0m     \u001b[0;32mreturn\u001b[0m \u001b[0mCNN_model\u001b[0m\u001b[0;34m\u001b[0m\u001b[0m\n",
      "\u001b[0;32m/Library/Frameworks/Python.framework/Versions/3.5/lib/python3.5/site-packages/keras/models.py\u001b[0m in \u001b[0;36mfit_generator\u001b[0;34m(self, generator, samples_per_epoch, nb_epoch, verbose, callbacks, validation_data, nb_val_samples, class_weight, max_q_size, nb_worker, pickle_safe, **kwargs)\u001b[0m\n\u001b[1;32m    905\u001b[0m                                         \u001b[0mmax_q_size\u001b[0m\u001b[0;34m=\u001b[0m\u001b[0mmax_q_size\u001b[0m\u001b[0;34m,\u001b[0m\u001b[0;34m\u001b[0m\u001b[0m\n\u001b[1;32m    906\u001b[0m                                         \u001b[0mnb_worker\u001b[0m\u001b[0;34m=\u001b[0m\u001b[0mnb_worker\u001b[0m\u001b[0;34m,\u001b[0m\u001b[0;34m\u001b[0m\u001b[0m\n\u001b[0;32m--> 907\u001b[0;31m                                         pickle_safe=pickle_safe)\n\u001b[0m\u001b[1;32m    908\u001b[0m \u001b[0;34m\u001b[0m\u001b[0m\n\u001b[1;32m    909\u001b[0m     def evaluate_generator(self, generator, val_samples,\n",
      "\u001b[0;32m/Library/Frameworks/Python.framework/Versions/3.5/lib/python3.5/site-packages/keras/engine/training.py\u001b[0m in \u001b[0;36mfit_generator\u001b[0;34m(self, generator, samples_per_epoch, nb_epoch, verbose, callbacks, validation_data, nb_val_samples, class_weight, max_q_size, nb_worker, pickle_safe, initial_epoch)\u001b[0m\n\u001b[1;32m   1417\u001b[0m                         \u001b[0;32mbreak\u001b[0m\u001b[0;34m\u001b[0m\u001b[0m\n\u001b[1;32m   1418\u001b[0m                     \u001b[0;32melse\u001b[0m\u001b[0;34m:\u001b[0m\u001b[0;34m\u001b[0m\u001b[0m\n\u001b[0;32m-> 1419\u001b[0;31m                         \u001b[0mtime\u001b[0m\u001b[0;34m.\u001b[0m\u001b[0msleep\u001b[0m\u001b[0;34m(\u001b[0m\u001b[0mwait_time\u001b[0m\u001b[0;34m)\u001b[0m\u001b[0;34m\u001b[0m\u001b[0m\n\u001b[0m\u001b[1;32m   1420\u001b[0m \u001b[0;34m\u001b[0m\u001b[0m\n\u001b[1;32m   1421\u001b[0m                 \u001b[0;32mif\u001b[0m \u001b[0;32mnot\u001b[0m \u001b[0mhasattr\u001b[0m\u001b[0;34m(\u001b[0m\u001b[0mgenerator_output\u001b[0m\u001b[0;34m,\u001b[0m \u001b[0;34m'__len__'\u001b[0m\u001b[0;34m)\u001b[0m\u001b[0;34m:\u001b[0m\u001b[0;34m\u001b[0m\u001b[0m\n",
      "\u001b[0;31mKeyboardInterrupt\u001b[0m: "
     ]
    }
   ],
   "source": [
    "model = trainCNN(X_g_train, X_q_train, weak = True, nb_epoch = 3)"
   ]
  },
  {
   "cell_type": "code",
   "execution_count": 392,
   "metadata": {
    "collapsed": false
   },
   "outputs": [
    {
     "name": "stdout",
     "output_type": "stream",
     "text": [
      "2000/2000 [==============================] - 9s     \n",
      "2000/2000 [==============================] - 9s     \n"
     ]
    }
   ],
   "source": [
    "acc = 1 - (np.sum(1 - model.predict_classes(X_q_test)) + np.sum(model.predict_classes(X_g_test)))/(2*len(X_q_test))"
   ]
  },
  {
   "cell_type": "code",
   "execution_count": 394,
   "metadata": {
    "collapsed": false
   },
   "outputs": [
    {
     "name": "stdout",
     "output_type": "stream",
     "text": [
      "0.71525\n"
     ]
    }
   ],
   "source": [
    "print(acc)"
   ]
  },
  {
   "cell_type": "code",
   "execution_count": 134,
   "metadata": {
    "collapsed": false
   },
   "outputs": [
    {
     "data": {
      "text/plain": [
       "2"
      ]
     },
     "execution_count": 134,
     "metadata": {},
     "output_type": "execute_result"
    }
   ],
   "source": [
    "a = [0,1,2,3,4,5,6,7,8]\n",
    "\n",
    "np.roll(a,-2)[0]"
   ]
  },
  {
   "cell_type": "code",
   "execution_count": 210,
   "metadata": {
    "collapsed": false
   },
   "outputs": [],
   "source": [
    "gen = weak_data_generator(X_g_train, X_q_train)"
   ]
  },
  {
   "cell_type": "code",
   "execution_count": 376,
   "metadata": {
    "collapsed": false
   },
   "outputs": [],
   "source": [
    "samples, targets = next(gen)"
   ]
  },
  {
   "cell_type": "code",
   "execution_count": 377,
   "metadata": {
    "collapsed": false
   },
   "outputs": [
    {
     "data": {
      "text/plain": [
       "<matplotlib.image.AxesImage at 0x210be807358>"
      ]
     },
     "execution_count": 377,
     "metadata": {},
     "output_type": "execute_result"
    },
    {
     "data": {
      "image/png": "[encoded data removed]",
      "text/plain": [
       "<matplotlib.figure.Figure at 0x210be7b88d0>"
      ]
     },
     "metadata": {},
     "output_type": "display_data"
    }
   ],
   "source": [
    "plt.imshow(np.mean(samples[:int(528/2)], axis = 0)[0], interpolation = 'none')"
   ]
  },
  {
   "cell_type": "code",
   "execution_count": 378,
   "metadata": {
    "collapsed": false
   },
   "outputs": [
    {
     "data": {
      "text/plain": [
       "<matplotlib.image.AxesImage at 0x210be86aeb8>"
      ]
     },
     "execution_count": 378,
     "metadata": {},
     "output_type": "execute_result"
    },
    {
     "data": {
      "image/png": "[encoded data removed]",
      "text/plain": [
       "<matplotlib.figure.Figure at 0x210be81db70>"
      ]
     },
     "metadata": {},
     "output_type": "display_data"
    }
   ],
   "source": [
    "plt.imshow(np.mean(samples[int(528/2):], axis = 0)[0], interpolation = 'none')"
   ]
  },
  {
   "cell_type": "code",
   "execution_count": null,
   "metadata": {
    "collapsed": true
   },
   "outputs": [],
   "source": []
  },
  {
   "cell_type": "code",
   "execution_count": null,
   "metadata": {
    "collapsed": true
   },
   "outputs": [],
   "source": []
  },
  {
   "cell_type": "code",
   "execution_count": null,
   "metadata": {
    "collapsed": true
   },
   "outputs": [],
   "source": []
  }
 ],
 "metadata": {
  "anaconda-cloud": {},
  "kernelspec": {
   "display_name": "Python 3",
   "language": "python",
   "name": "python3"
  },
  "language_info": {
   "codemirror_mode": {
    "name": "ipython",
    "version": 3
   },
   "file_extension": ".py",
   "mimetype": "text/x-python",
   "name": "python",
   "nbconvert_exporter": "python",
   "pygments_lexer": "ipython3",
   "version": "3.5.2"
  }
 },
 "nbformat": 4,
 "nbformat_minor": 1
}
