{
 "cells": [
  {
   "cell_type": "code",
   "execution_count": 67,
   "metadata": {
    "collapsed": false
   },
   "outputs": [],
   "source": [
    "from jet_ML_tools import *\n",
    "from data_import import data_import\n",
    "\n",
    "%matplotlib inline\n",
    "import matplotlib.pyplot as plt\n",
    "import matplotlib as mpl\n",
    "import numpy as np"
   ]
  },
  {
   "cell_type": "code",
   "execution_count": 68,
   "metadata": {
    "collapsed": false
   },
   "outputs": [],
   "source": [
    "# specify the file inputs\n",
    "n_files = 1\n",
    "n_ev_per_file = 10000\n",
    "s_range = range(1,2)\n",
    "\n",
    "# read in the data\n",
    "nevents = n_files * n_ev_per_file\n",
    "data = data_import(data_type='jetimage', seed_range=s_range, path='../images/', nevents=nevents, img_size=33, channels=[0])\n",
    "\n",
    "# read in the labels and split the data by quark and gluon\n",
    "g_data, q_data = data[:10000], data[10000:]\n",
    "labels = to_categorical(np.concatenate((np.zeros(nevents),np.ones(nevents))), num_cat = 2)\n",
    "\n",
    "# perform the train test split\n",
    "x_train, y_train, x_val, y_val, x_test, y_test = data_split(data, labels, val_frac = 0.1, test_frac = 0.1)"
   ]
  },
  {
   "cell_type": "code",
   "execution_count": 82,
   "metadata": {
    "collapsed": false
   },
   "outputs": [],
   "source": [
    "# Adapted from: github.com/derylucio/weaksupervision\n",
    "\n",
    "from keras.optimizers import Adam\n",
    "\n",
    "# Weak supervision loss function\n",
    "def weak_loss_function(ytrue, ypred):\n",
    "    return K.square(K.sum(ypred)/ypred.shape[0] - K.sum(ytrue)/ypred.shape[0])\n",
    "\n",
    "# Generates batches for training with keras\n",
    "def weak_data_generator(samples, output):\n",
    "    while True:\n",
    "        for i in range(len(samples)):\n",
    "            yield samples[i], output[i]\n",
    "\n",
    "# Train a network with weak supervision\n",
    "# UNDER CONSTRUCTION - EMM\n",
    "def trainCNN(samples, targets, layersize = 30, nb_epoch = 10, learning_rate = 0.001, val_frac = 0.1, weak = True):\n",
    "    \n",
    "    listX_train, listX_val = [], []\n",
    "    listf_train, listf_val = [], []\n",
    "    \n",
    "    # split the data and fractions into training and validation sets\n",
    "    for X,f in zip(samples,targets):\n",
    "        X_train, f_train, X_val, f_val = data_split(X, f, val_frac = val_frac, test_frac=0.0)\n",
    "        listX_train.append(X_train)\n",
    "        listf_train.append(f_train)\n",
    "        listX_val.append(X_val)\n",
    "        listf_val.append(f_val)\n",
    "    \n",
    "    trainsize = sum([X.shape[0] for X in listX_train])\n",
    "        \n",
    "    # construct the CNN\n",
    "    hps = {'batch_size': 128, 'img_size': 33, 'nb_conv': [8,4,4], 'nb_filters': [64, 64, 64],\n",
    "           'nb_neurons': 128, 'nb_pool': [2, 2, 2], 'dropout': [.25, .5, .5, .5],\n",
    "           'nb_channels': 1, 'patience': 3, 'out_dim' : targets[0].shape[1]}\n",
    "    \n",
    "    CNN_model = conv_net_construct(hps, compiled = False)\n",
    "    earlystopper = EarlyStopping(monitor=\"val_loss\", patience= hps['patience'])\n",
    "    \n",
    "    if weak:\n",
    "        CNN_model.compile(loss = weak_loss_function, optimizer=Adam(lr=learning_rate), metrics = ['accuracy']) \n",
    "    else:\n",
    "        CNN_model.compile(loss=\"categorical_crossentropy\", optimizer=Adam(lr=learning_rate), metrics = ['accuracy'])\n",
    "    \n",
    "    CNN_model.fit_generator(generator = weak_data_generator(listX_train, listf_train), samples_per_epoch = trainsize,\n",
    "                             nb_epoch = nb_epoch, validation_data = weak_data_generator(listX_val, listf_val), \n",
    "                             nb_val_samples = len(listX_val), callbacks = [earlystopper])\n",
    "\n",
    "    return CNN_model"
   ]
  }
 ],
 "metadata": {
  "anaconda-cloud": {},
  "kernelspec": {
   "display_name": "Python [default]",
   "language": "python",
   "name": "python3"
  },
  "language_info": {
   "codemirror_mode": {
    "name": "ipython",
    "version": 3
   },
   "file_extension": ".py",
   "mimetype": "text/x-python",
   "name": "python",
   "nbconvert_exporter": "python",
   "pygments_lexer": "ipython3",
   "version": "3.5.2"
  }
 },
 "nbformat": 4,
 "nbformat_minor": 1
}
