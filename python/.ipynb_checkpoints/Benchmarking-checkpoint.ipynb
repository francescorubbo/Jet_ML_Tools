{
 "cells": [
  {
   "cell_type": "code",
   "execution_count": 2,
   "metadata": {
    "collapsed": false
   },
   "outputs": [],
   "source": [
    "#from jet_ML_tools import *\n",
    "from data_import import data_import\n",
    "import generate\n",
    "\n",
    "%matplotlib inline\n",
    "import matplotlib.pyplot as plt\n",
    "import matplotlib as mpl\n",
    "import numpy as np"
   ]
  },
  {
   "cell_type": "code",
   "execution_count": 19,
   "metadata": {
    "collapsed": false
   },
   "outputs": [],
   "source": [
    "def pixelate(jet, img_size = 33, jet_R = 0.4, nb_chan = 1):\n",
    "\n",
    "    \"\"\" A function for creating a jet image from a list of particles.\n",
    "\n",
    "    jet: an array containing the list of particles in a jet with each row \n",
    "         representing a particle and the columns being (rapidity, phi, pT, \n",
    "         pdgid), the latter not being necessary for a grayscale image.\n",
    "    jet_phi: phi value for the jet. used to avoid split iamges.\n",
    "    img_size: number of pixels along one dimension of the image.\n",
    "    jet_R: R value used when finding the jet. The image will be size 2R x 2R\n",
    "           in (y,phi) space.\n",
    "    nb_chan: 1 - returns a grayscale image of total pt\n",
    "             2 - returns a two-channel image with total pt and charge counts\n",
    "             3 - returns a three-channel \"RGB\" image with charged pt, neutral\n",
    "                 pt, and charge counts.\n",
    "    \"\"\"\n",
    "\n",
    "    if nb_chan not in [1,2,3]:\n",
    "        raise ValueError('Invalid number of channels for jet image.')\n",
    "\n",
    "    # assume that the image should be (2jet_R x 2jet_R) in size\n",
    "    pix_width = 2 * jet_R / img_size\n",
    "    jet_image = np.zeros((nb_chan, img_size, img_size))\n",
    "\n",
    "    raps = jet[:,0]\n",
    "    phis = jet[:,1]\n",
    "    pts  = jet[:,2]\n",
    "\n",
    "    # deal with split images\n",
    "    ref_phi = phis[np.argmax(pts)]\n",
    "    phis[phis - ref_phi >  2 * jet_R] -= 2 * np.pi\n",
    "    phis[phis - ref_phi < -2 * jet_R] += 2 * np.pi \n",
    "\n",
    "    # get jet pt centroid index\n",
    "    rap_avg = np.average(raps, weights = pts)\n",
    "    phi_avg = np.average(phis, weights = pts)\n",
    "    rap_pt_cent_index = np.ceil(rap_avg/pix_width - .5) - np.floor(img_size / 2)\n",
    "    phi_pt_cent_index = np.ceil(phi_avg/pix_width - .5) - np.floor(img_size / 2)\n",
    "    \n",
    "    print(rap_pt_cent_index)\n",
    "    print(phi_pt_cent_index)\n",
    "    \n",
    "    # center image and transition to indices\n",
    "    rap_indices = np.ceil(raps/pix_width - .5) - rap_pt_cent_index\n",
    "    phi_indices = np.ceil(phis/pix_width - .5) - phi_pt_cent_index\n",
    "\n",
    "    # delete elements outside of range\n",
    "    mask = np.ones(raps.shape).astype(bool)\n",
    "    mask[rap_indices < 0] = False\n",
    "    mask[phi_indices < 0] = False\n",
    "    mask[rap_indices >= img_size] = False\n",
    "    mask[phi_indices >= img_size] = False\n",
    "    rap_indices = rap_indices[mask].astype(int)\n",
    "    phi_indices = phi_indices[mask].astype(int)\n",
    "\n",
    "    # construct grayscale image\n",
    "    if nb_chan == 1:\n",
    "        for ph,y,pt in zip(phi_indices, rap_indices, pts[mask]):\n",
    "            jet_image[0, ph, y] += pt\n",
    "        num_pt_chans = 1\n",
    "\n",
    "    # construct two-channel image\n",
    "    elif nb_chan == 2:\n",
    "        for ph,y,pt,label in zip(phi_indices, rap_indices, \n",
    "                                 pts[mask], jet[mask,3]):\n",
    "            jet_image[0, ph, y] += pt\n",
    "            if charge_map[label] != 0:\n",
    "                jet_image[1, ph, y] += 1\n",
    "        num_pt_chans = 1\n",
    "\n",
    "    # construct three-channel image\n",
    "    elif nb_chan == 3:\n",
    "        for ph,y,pt,label in zip(phi_indices, rap_indices, \n",
    "                                 pts[mask], jet[mask,3]):\n",
    "            if charge_map[label] == 0:\n",
    "                jet_image[1, ph, y] += pt\n",
    "            else:\n",
    "                jet_image[0, ph, y] += pt\n",
    "                jet_image[2, ph, y] += 1\n",
    "        num_pt_chans = 2\n",
    "\n",
    "    # L1-normalize the pt channels of the jet image\n",
    "    try:\n",
    "        jet_image[:num_pt_chans] = jet_image[:num_pt_chans]/\\\n",
    "                                   np.sum(jet_image[:num_pt_chans])\n",
    "    except FloatingPointError:\n",
    "        sys.stderr.write('ERROR: No particles in image!\\n')\n",
    "        sys.stderr.flush()\n",
    "\n",
    "    return jet_image"
   ]
  },
  {
   "cell_type": "code",
   "execution_count": 8,
   "metadata": {
    "collapsed": false
   },
   "outputs": [],
   "source": [
    "# import data from file \n",
    "jets, jet_avgs = data_import('event', [1])\n",
    "\n",
    "# make jet images\n",
    "jet_images = np.asarray([pixelate(jet) for jet in jets])\n",
    "\n",
    "jet_images_from_file = data_import('jetimage', [1])\n",
    "\n",
    "old_jet_images = np.asarray([old_pixelate(jet, avg, 33, .4) for jet, avg in zip(jets, jet_avgs)])\n",
    "\n",
    "#eric_jet_images = np.asarray([eric_pixelate(jet, avg, 33, .4) for jet, avg in zip(jets, jet_avgs)])"
   ]
  },
  {
   "cell_type": "code",
   "execution_count": 13,
   "metadata": {
    "collapsed": false
   },
   "outputs": [
    {
     "name": "stdout",
     "output_type": "stream",
     "text": [
      "11.6189500386 333\n"
     ]
    },
    {
     "data": {
      "image/png": "[encoded data removed]",
      "text/plain": [
       "<matplotlib.figure.Figure at 0x1042709e8>"
      ]
     },
     "metadata": {},
     "output_type": "display_data"
    },
    {
     "data": {
      "image/png": "[encoded data removed]",
      "text/plain": [
       "<matplotlib.figure.Figure at 0x10c048f60>"
      ]
     },
     "metadata": {},
     "output_type": "display_data"
    }
   ],
   "source": [
    "set1 = np.ceil(jet_images_from_file)\n",
    "set2 = np.ceil(jet_images)\n",
    "\n",
    "norm_diffs = [np.linalg.norm(set1[i][0] - set2[i][0]) for i in range(1000)]\n",
    "worst = np.argmax(norm_diffs)\n",
    "worst_val = np.max(norm_diffs)\n",
    "print(worst_val, worst)\n",
    "\n",
    "plt.imshow(set1[worst][0], norm = mpl.colors.LogNorm(.00001, .01))\n",
    "plt.show()\n",
    "\n",
    "plt.imshow(set2[worst][0], norm = mpl.colors.LogNorm(.00001, .01))\n",
    "plt.show()"
   ]
  },
  {
   "cell_type": "code",
   "execution_count": 11,
   "metadata": {
    "collapsed": false
   },
   "outputs": [
    {
     "data": {
      "image/png": "[encoded data removed]",
      "text/plain": [
       "<matplotlib.figure.Figure at 0x10c044320>"
      ]
     },
     "metadata": {},
     "output_type": "display_data"
    }
   ],
   "source": [
    "plt.hist(norm_diffs, bins = 50)\n",
    "plt.show()"
   ]
  },
  {
   "cell_type": "code",
   "execution_count": 14,
   "metadata": {
    "collapsed": false
   },
   "outputs": [
    {
     "data": {
      "text/plain": [
       "array([304, 238, 306, 677, 150, 960, 593, 310, 674, 248, 427, 179, 938,\n",
       "       420, 535, 581, 509,  95, 485, 290, 389, 886, 950,  30, 642, 153,\n",
       "       109, 324, 860, 198, 826, 955, 123, 989, 892, 396, 579, 521,  24,\n",
       "       154,  88, 736,  51, 126, 475,  64, 909, 869, 534, 321,  83, 774,\n",
       "       102, 876, 128,  58, 998, 386,   5, 623, 671, 222, 385, 705, 991,\n",
       "       883, 726, 368, 837, 976, 286,  89, 473, 927, 825, 419, 398, 785,\n",
       "        37, 196, 361, 497, 513, 649, 543, 549, 916,  27,  50, 840, 134,\n",
       "        18, 852, 771, 359, 711,  69, 590, 158,  63, 300, 783, 145, 716,\n",
       "       216, 480, 219, 690, 823, 136, 622, 613, 190, 538, 633, 753, 244,\n",
       "       184, 727, 882, 858, 425, 111, 971, 983, 864, 493,  15,  79, 970,\n",
       "       205, 370, 392, 554, 515, 568, 355, 847, 564, 728, 165,  72, 757,\n",
       "       917, 702, 947, 204, 541, 691, 266, 607, 661, 647,   6, 426, 801,\n",
       "       250, 104, 835, 822, 100, 144, 130, 352, 880,  80, 411, 471, 409,\n",
       "       278, 940,   4, 650, 948, 202,  74, 254, 836, 963, 628, 127,  13,\n",
       "       680, 223, 733,  56, 849, 457, 902, 780, 923, 439, 566, 173,  81,\n",
       "       906, 110, 689, 695, 670, 503, 431,   2, 788, 251, 898, 559, 977,\n",
       "       472,  21, 683, 684, 887, 131, 200, 410,  46, 246, 586, 245, 522,\n",
       "       951, 459, 640, 565, 275, 750, 663, 387, 252, 859, 995, 186,  14,\n",
       "       830, 575, 563, 338,  68, 561, 331, 337, 442, 456, 399, 414, 328,\n",
       "       277, 624, 573, 584, 384, 121,  44,  45, 943,  34, 761, 968, 795,\n",
       "        60, 118, 982, 912, 888, 646, 235,  98,   7, 280, 305, 763, 125,\n",
       "       347, 506, 870, 863, 877, 112,  71, 834, 137, 103, 135, 925, 930,\n",
       "       845, 320, 476, 478, 124, 512, 510, 508, 842, 326, 797, 203, 692,\n",
       "       390, 364, 217, 609, 616, 974, 189, 738, 587, 660, 678, 965, 169,\n",
       "       658,   3, 164, 792, 959, 550, 259, 979, 994, 652, 685,  73, 800,\n",
       "       708, 155, 287, 208, 844, 935,  19, 709, 468, 369, 357,  65,  33,\n",
       "       358, 458, 926, 346, 999, 885, 302, 516, 843, 791, 168, 754, 149,\n",
       "       500, 214, 106, 868, 686, 682, 256, 552, 175,  23, 424,  92, 507,\n",
       "       809, 893, 625, 874, 595, 984, 491, 443, 717, 495, 744, 504, 637,\n",
       "       929, 820, 546, 945, 722, 639, 499,  93,  84, 242, 138, 307,  99,\n",
       "       185, 240, 267, 255, 588, 576, 962, 615, 129,  10, 956, 282, 777,\n",
       "        53, 731,  76, 220, 698, 440, 341, 444, 335, 327, 484, 105, 865,\n",
       "       492, 434, 115, 854, 139, 831, 589, 794, 787, 746, 567,  96,  42,\n",
       "       751, 406, 234, 372, 949, 367, 957, 645, 848, 183, 961, 743, 648,\n",
       "        55,   0, 237, 349, 673, 996, 580, 533, 342, 336, 524, 226, 721,\n",
       "       659, 755, 978, 197, 839, 620, 539, 913, 793, 156, 558, 578, 453,\n",
       "       802, 919, 931, 551, 161,  31, 924, 401, 577, 811, 263, 737,  48,\n",
       "       172, 544, 373, 152, 162, 812, 120, 798, 723, 313, 838, 151,  11,\n",
       "       992, 833, 502, 696, 413,  90, 706, 703, 748, 423, 932, 446, 700,\n",
       "       665, 262, 494, 638, 356, 619,  47, 147, 375, 421, 734,  61, 985,\n",
       "       374, 597, 388, 166, 221, 402, 264, 171, 316, 146, 285, 107, 209,\n",
       "       952, 210,  38, 918, 560, 990, 745, 553, 773,  66, 635, 821, 108,\n",
       "       194, 272, 481,  32,  16, 856, 428, 604, 529, 907, 393, 270, 741,\n",
       "       366, 330, 944, 572, 460, 857, 981, 288, 486, 236, 451, 505, 627,\n",
       "       239, 688, 608, 653, 525, 766, 437, 415, 941, 159,  43, 141, 816,\n",
       "       827, 596, 908, 937, 132, 314, 230, 805, 261, 206,  49, 719, 873,\n",
       "       881, 942, 360, 365, 905, 348, 814, 813, 807, 806, 585, 542, 782,\n",
       "         9, 562, 381, 666, 896, 178, 247, 936, 966, 404, 987, 391, 676,\n",
       "       928, 894, 449, 772, 557, 582, 528, 735, 732, 729, 724, 850, 113,\n",
       "       518, 884, 752, 466, 693,  97, 213, 667,  82, 818, 980, 225, 899,\n",
       "        67, 657, 672, 122, 382, 556, 599, 344, 260, 257, 211, 296, 571,\n",
       "       749, 268, 594, 488, 903, 445, 933, 710, 641,  29, 332, 725, 841,\n",
       "       662, 643, 861, 739, 490, 407, 467, 191, 351, 224, 610, 631, 436,\n",
       "       606, 201, 253, 759, 422,  94, 195, 487, 922, 187, 600, 714, 232,\n",
       "       273, 747, 279,   1, 301, 177, 651, 293, 784, 501, 483, 229, 265,\n",
       "       284, 636, 433, 681, 438, 350,  59, 452, 997, 435, 180, 181, 526,\n",
       "       824, 448, 569,  91, 345, 853, 258, 249, 605, 469, 975, 815, 644,\n",
       "       819, 303, 817,  12, 828,  25, 591,  62, 450, 298, 634,  35, 140,\n",
       "       464, 454, 872, 626, 160, 312, 547, 514, 867, 910, 482,  39, 309,\n",
       "       655, 519, 188, 765, 383, 405, 829, 207, 915, 555, 354, 699, 958,\n",
       "        17, 527, 618, 400, 416, 914, 603, 380, 397, 675, 574, 477, 789,\n",
       "       969, 808, 489, 395, 701, 540, 323,  36, 664,  20, 756, 832, 281,\n",
       "       986, 394,  77, 470, 318, 403, 276, 291, 592,  52, 878, 363, 295,\n",
       "       758, 462, 334, 707, 846, 339, 315, 511,   8, 770, 329, 148, 408,\n",
       "       687, 781, 474, 241, 742, 890, 786, 379, 654, 617, 889, 679, 803,\n",
       "       174, 322, 479, 946, 199, 855, 101, 294, 523, 441, 629, 779, 871,\n",
       "       231, 193, 170, 895, 531, 317, 163, 311, 601, 319, 418, 764, 142,\n",
       "       713, 891, 545, 796, 455, 432, 119, 340, 530, 767, 934, 694, 271,\n",
       "       536, 921, 378, 993, 851, 143, 697, 215, 862, 776, 804, 988, 377,\n",
       "       274, 227, 362, 669, 967, 299,  22,  75, 768, 133, 376, 114,  70,\n",
       "       911, 353, 668, 498, 548, 614,  87, 964,  57, 228, 167,  40, 289,\n",
       "       212, 632, 810, 417, 325, 602, 308, 517, 866, 760, 715, 537, 429,\n",
       "       712, 879, 598, 583,  26, 520, 182, 954, 371, 117, 730, 461, 740,\n",
       "       218, 875, 243, 939, 630, 900, 343, 532, 292, 762, 176,  86, 769,\n",
       "       904, 447, 465, 778, 897, 430, 656, 496, 953, 269,  78, 799, 233,\n",
       "       718, 412, 790, 901,  41, 157, 920, 570,  54, 283, 972, 720, 116,\n",
       "       973,  85, 612, 463, 192,  28, 704, 621, 775, 297, 611, 333])"
      ]
     },
     "execution_count": 14,
     "metadata": {},
     "output_type": "execute_result"
    }
   ],
   "source": [
    "np.argsort(norm_diffs)"
   ]
  },
  {
   "cell_type": "code",
   "execution_count": 29,
   "metadata": {
    "collapsed": false
   },
   "outputs": [
    {
     "data": {
      "text/plain": [
       "382"
      ]
     },
     "execution_count": 29,
     "metadata": {},
     "output_type": "execute_result"
    }
   ],
   "source": [
    "x=[14,  53,  47, 330, 368, 248, 219,  72, 142, 216, 277, 300, 107,\n",
    "       304, 105, 101, 367,  78, 309, 121, 124,  64, 244,  85, 217,   1,\n",
    "        92, 199, 247,   0, 158, 218,  23, 377, 359, 241, 139,  11, 129,\n",
    "       238, 191,  43,  28, 116, 226, 242, 132, 310, 345, 115,  41, 293,\n",
    "       225, 361, 332, 246, 263,  88,  31, 334, 201, 296, 197, 265,  10,\n",
    "        24, 298, 259,  33, 369, 325,   5,  68,  20, 192, 233,  58, 258,\n",
    "        37,   7, 282, 372,  99,  30, 347, 305, 173, 203, 137,  35, 150,\n",
    "       147,  12, 207, 102, 178,  65, 162, 117,  79, 168, 104, 183, 254,\n",
    "       299,   4,  19, 136, 253, 290, 113, 171, 227, 274, 328, 379, 323,\n",
    "         2, 179, 351,  29, 371, 112, 286, 182,  48, 193, 151, 155, 153,\n",
    "        82, 118, 232, 146, 128,  50,  77, 315, 363,  52,  45, 245, 275,\n",
    "       134, 338, 180, 223,  39, 131, 222, 110, 156, 370, 205,  74, 352,\n",
    "       200, 206, 354, 318, 256,  70, 208, 273, 358, 344, 237,  90, 194,\n",
    "       229,  61, 213, 215, 181, 123, 268, 289, 109,  95, 127, 249, 348,\n",
    "       204,   8, 141,  98, 326, 350, 285,   6,   9, 165, 329,  36, 340,\n",
    "        46, 157, 114, 187, 381, 120, 308, 255,  76, 267, 279, 211, 311,\n",
    "       317, 202, 196, 316, 159, 320, 198, 374, 360, 111, 169,  93, 251,\n",
    "       177, 373,  17, 188, 228, 185, 224, 221, 270, 122, 257, 333, 380,\n",
    "        62, 184, 239, 339,  13, 271,  89, 209, 306, 376,  73, 240, 166,\n",
    "        22, 269, 210, 364,  67,  27, 164,  15, 103,  81, 154,  87, 366,\n",
    "       138, 190, 322, 160, 294, 195, 163,  80, 144, 287, 321, 119,  42,\n",
    "       319, 307,   3,  97,  25, 266, 280, 126, 378,  60, 230,  21,  59,\n",
    "        16,  75, 312, 357, 272, 342, 236, 234,  18, 314, 375, 149, 335,\n",
    "       125, 212, 349, 324,  32, 291, 288, 167,  84, 220, 276, 175, 292,\n",
    "       189,  66, 261, 235,  40, 143, 331,  57,  38, 284, 356,  83, 135,\n",
    "       353, 231, 106, 152, 174,  69, 100,  55,  86, 130,  49, 343, 327,\n",
    "       313,  56, 337, 297, 176,  71,  34, 145, 341, 264,  63, 133, 108,\n",
    "       336, 172, 260, 303, 140, 346, 243, 170, 214, 362, 302, 148, 186,\n",
    "        44,  96, 281, 252,  94, 262, 295,  91, 355,  26, 283,  51, 301,\n",
    "       250, 365,  54, 161, 278]\n",
    "len(x)"
   ]
  },
  {
   "cell_type": "code",
   "execution_count": 38,
   "metadata": {
    "collapsed": false
   },
   "outputs": [
    {
     "data": {
      "text/plain": [
       "array([304, 150, 539, 750, 979, 277, 423, 536, 481, 951, 418, 134, 793,\n",
       "        47, 832, 266, 645, 587,  89, 520, 891, 579, 886, 660, 877, 439,\n",
       "       658, 313, 919, 934, 235, 866, 628, 935, 123, 563, 974, 807,  45,\n",
       "       168, 740, 385, 565, 500, 694, 712, 790, 770, 663, 797, 335, 184,\n",
       "       910, 270,  51, 963, 732, 846, 590, 785, 512, 557, 982, 120, 700,\n",
       "       945, 607, 411, 547, 546, 327, 751, 396, 255, 156, 111, 401, 813,\n",
       "       994,  69, 251, 461,   3, 337, 812, 699, 384, 608, 144, 382, 159,\n",
       "       441, 601, 618, 158, 395, 730, 859, 687, 978,  44, 139, 326, 475,\n",
       "       901, 917, 862, 648, 599, 705, 240, 990, 786, 394, 102, 688, 253,\n",
       "       462, 108, 661,  88, 617, 515, 217, 196, 250,   6, 200, 612,   5,\n",
       "       756, 100, 650, 286, 105, 880, 966, 203, 487, 981, 357, 844,  84,\n",
       "       300,  52, 627, 988, 501,  66,  18, 826, 561, 692, 145, 940, 922,\n",
       "       907, 631, 767, 647, 259, 762, 960, 341, 124, 474, 511, 918, 130,\n",
       "       460, 941, 198, 973,  13, 670, 179, 674, 226,  32, 421, 603, 169,\n",
       "       413, 506,  38, 254, 825, 359, 320, 272, 983, 553, 861, 202, 809,\n",
       "       131, 126, 779,  15,  16, 726, 996, 933, 412, 953, 425, 104, 744,\n",
       "        63, 502, 479, 975, 965, 848, 584, 435, 817, 517, 788, 710,  81,\n",
       "       141, 470, 571, 127, 164, 609, 548, 532, 948, 140, 635, 356, 942,\n",
       "       173, 615, 197, 290, 955, 991, 529, 458, 181, 480, 763,  56, 245,\n",
       "       278, 795, 222, 829,  96, 456,  42, 402, 151, 433, 899, 701, 209,\n",
       "       637, 387, 961, 128, 201, 673, 446, 851, 936, 295, 754, 121,  33,\n",
       "       405, 685, 836, 298, 363, 118, 153, 342, 345,  35, 949, 690, 417,\n",
       "       459, 154, 451, 527, 220, 194,  90, 310, 800, 805, 715, 708, 238,\n",
       "       892, 215, 260, 816, 180, 199, 516,  65, 386, 980, 957, 135, 523,\n",
       "       995, 585, 360, 400, 885, 246, 938, 573, 544, 355, 802, 336, 332,\n",
       "       924, 365, 165, 841, 534, 574, 160, 655, 768, 373, 204,   7, 297,\n",
       "         2, 340, 583, 189, 621, 465, 900, 346, 279, 594, 241, 956, 404,\n",
       "       390, 210,  37, 243, 292, 191, 244,  86, 375,  50,  77, 343, 137,\n",
       "        26, 389, 115, 769, 778,  61, 374, 377, 871, 380, 317, 362, 753,\n",
       "       132, 626,  20, 657, 147, 353, 311,  62, 321, 142,  27, 895, 669,\n",
       "        98, 303, 308, 299, 746, 908,  91, 122, 348, 291, 449, 735,  43,\n",
       "        17, 271, 749, 641, 954,   9, 323, 967,  93, 970, 114,  10, 195,\n",
       "       436, 471, 328, 249, 858, 369, 383, 772, 307, 379, 192, 224, 174,\n",
       "       258, 985,  28, 597,   1, 322, 654, 230, 397, 675, 143, 225, 236,\n",
       "       827, 505, 890, 288, 939, 103,  75,  29, 227,  68, 869, 170, 586,\n",
       "       709,  11, 381, 906, 729,  46, 275, 351, 281, 889, 595,  55, 758,\n",
       "       468,  83, 724, 498, 265, 863, 742, 614, 596, 269,  87, 318, 146,\n",
       "        23, 667, 878,  41,  54,  39, 214, 125, 576, 305, 944, 695, 931,\n",
       "       783,  78, 361, 725,  57, 319, 913, 185, 367, 737,  67, 896, 664,\n",
       "       881, 233, 530, 707, 157, 796, 296, 830, 219, 314, 469, 811, 116,\n",
       "       218,  21, 874, 644, 422, 113,  36, 162, 237, 376, 958, 223, 952,\n",
       "        71, 731, 679, 354, 228, 293, 274, 324, 450, 992, 287,  58,  60,\n",
       "       656, 734, 294, 803, 689, 464, 148, 167, 784, 491, 765, 212, 531,\n",
       "       416, 693, 242, 366, 499, 521, 267, 358, 444, 403, 454, 823, 567,\n",
       "       720, 507, 325, 438, 555, 482, 893, 186, 284,   0, 714, 503,  31,\n",
       "       496, 350, 282, 833, 472, 903, 372, 504, 232, 316, 526, 289, 309,\n",
       "       682, 972, 399, 408, 777, 821, 930, 172, 371, 806, 187, 588, 312,\n",
       "       231, 652, 651, 429,  12,  22, 666,  82, 283,  70, 904, 257, 315,\n",
       "       514, 743, 799, 575, 629, 691, 333, 229, 264, 497, 183, 112, 107,\n",
       "       572, 566, 163, 166, 171, 211, 741,  79, 434, 636, 370, 854, 452,\n",
       "       347,   4, 950, 560, 856, 986, 622, 984, 119, 897, 711, 752, 921,\n",
       "       706, 338, 263, 999, 804, 182,  40, 569, 424, 633, 915, 570, 406,\n",
       "       522, 766,  85, 247, 879, 976, 273, 665, 678, 719, 810, 873, 959,\n",
       "        25, 117,  48, 600, 875, 556, 728, 824, 828, 820, 989, 847, 193,\n",
       "       554, 550, 864, 349, 839, 776, 819, 760, 542, 276, 149, 905, 528,\n",
       "         8, 850, 466, 133, 494, 775, 455, 329, 176, 764, 646, 868, 849,\n",
       "       589, 477,  72, 415, 912, 268, 681, 234, 175, 780, 368, 773, 718,\n",
       "       787, 835, 513, 964, 443, 911, 605, 388, 262, 330, 190, 993, 285,\n",
       "       857, 463, 716, 414, 818, 562, 591, 721, 448, 543, 432, 392, 493,\n",
       "       638, 437, 221, 161, 577, 968, 558, 306, 872, 410, 736, 492, 344,\n",
       "       598, 929, 302, 129, 738,  74, 407, 578, 838, 713, 925, 152, 704,\n",
       "       789, 867, 798, 727, 642, 453, 486,  49, 213, 239, 476,  34, 630,\n",
       "       519, 883, 478, 723, 252, 634, 440, 668, 808, 445, 997, 280, 632,\n",
       "       334, 582, 339, 364, 947, 845,  80, 870, 757, 551, 781, 549, 409,\n",
       "       624, 946, 616, 782, 837, 680, 508, 717, 540, 882, 998,  59, 206,\n",
       "       761, 831, 698, 524, 483,  73, 428, 613, 378, 447, 136, 703, 431,\n",
       "       592, 205, 620, 977, 683, 398, 606, 106, 894, 110, 467, 962, 815,\n",
       "       155,  92, 926, 814, 653, 792, 533,  99, 559, 852, 937, 853, 178,\n",
       "       697, 541,  53, 649, 109, 774, 969, 902, 610, 842, 545, 352, 430,\n",
       "       495, 581, 604, 261, 101, 659, 791, 420, 865,  94, 485, 426, 525,\n",
       "       987, 971, 696, 625, 552, 619,  95, 888, 488, 759, 684, 677, 639,\n",
       "       538, 473, 843, 419, 943, 672, 887, 208, 702, 301, 427, 794, 564,\n",
       "       393, 686, 490, 593, 138,  14, 855, 834, 568, 932, 909, 391, 518,\n",
       "       747, 755, 840, 722, 860, 822, 914, 928, 927, 580, 256,  76, 248,\n",
       "       733, 662, 748, 489, 188, 177, 509, 602,  19, 923,  97, 745, 876,\n",
       "       771, 676, 331, 739, 916, 442,  64, 884, 537, 801, 457, 510, 920,\n",
       "        24, 671, 207, 535, 640, 643, 484, 611, 898, 623,  30, 216])"
      ]
     },
     "execution_count": 38,
     "metadata": {},
     "output_type": "execute_result"
    }
   ],
   "source": [
    "np.argsort(norm_diffs)"
   ]
  },
  {
   "cell_type": "code",
   "execution_count": 40,
   "metadata": {
    "collapsed": false
   },
   "outputs": [
    {
     "name": "stdout",
     "output_type": "stream",
     "text": [
      "[ 0.84092378  0.84307722  0.84915638  0.84952005  0.85490389  0.85713526\n",
      "  0.85896144  0.86486528  0.8688742   0.86968117  0.86989837  0.87047393\n",
      "  0.88724246  0.88760517  0.89170973  0.89468929  0.90031537  0.90246293\n",
      "  0.90872277  0.97293574  0.9790395   1.0380044   1.07777636  1.08466997\n",
      "  1.10001239]\n"
     ]
    },
    {
     "data": {
      "image/png": "[encoded data removed]",
      "text/plain": [
       "<matplotlib.figure.Figure at 0x107c68710>"
      ]
     },
     "metadata": {},
     "output_type": "display_data"
    },
    {
     "data": {
      "image/png": "[encoded data removed]",
      "text/plain": [
       "<matplotlib.figure.Figure at 0x10cebb908>"
      ]
     },
     "metadata": {},
     "output_type": "display_data"
    }
   ],
   "source": [
    "sorted_diffs = np.sort(norm_diffs)\n",
    "\n",
    "print(sorted_diffs[-25:])\n",
    "worst = np.argsort(norm_diffs)[382]\n",
    "\n",
    "plt.imshow(set1[worst][0], norm = mpl.colors.LogNorm(.00001, .01))\n",
    "plt.show()\n",
    "\n",
    "plt.imshow(set2[worst][0].T, norm = mpl.colors.LogNorm(.00001, .01))\n",
    "plt.show()"
   ]
  },
  {
   "cell_type": "code",
   "execution_count": 24,
   "metadata": {
    "collapsed": true
   },
   "outputs": [],
   "source": [
    "jet_images_from_new_file = np.load('../../../VAE/autoencoder-jets/src/gluon-jetimage-seed1.npz')['arr_0']"
   ]
  },
  {
   "cell_type": "code",
   "execution_count": 25,
   "metadata": {
    "collapsed": false
   },
   "outputs": [
    {
     "name": "stdout",
     "output_type": "stream",
     "text": [
      "(1000, 33, 33)\n",
      "(20000, 33, 33)\n"
     ]
    },
    {
     "data": {
      "text/plain": [
       "12.593194239945129"
      ]
     },
     "execution_count": 25,
     "metadata": {},
     "output_type": "execute_result"
    }
   ],
   "source": [
    "x = jet_images_from_new_file[:,0]\n",
    "print(x.shape)\n",
    "print(jet_images_from_file[:,0].shape)\n",
    "np.linalg.norm(jet_images_from_new_file[:,0] - jet_images_from_file[:1000,0])"
   ]
  },
  {
   "cell_type": "code",
   "execution_count": 17,
   "metadata": {
    "collapsed": true
   },
   "outputs": [],
   "source": [
    "from data_import import recompress_npz_files\n",
    "from os import listdir"
   ]
  },
  {
   "cell_type": "code",
   "execution_count": 18,
   "metadata": {
    "collapsed": false
   },
   "outputs": [
    {
     "name": "stdout",
     "output_type": "stream",
     "text": [
      "Writing images for gluon-jetimage-seed50 to file ... Done, in 1.783 seconds.\n",
      "Writing images for quark-jetimage-seed50 to file ... Done, in 1.891 seconds.\n"
     ]
    }
   ],
   "source": [
    "path = '/Volumes/PTK_seagate/Data/AEJ/2-9-images/'\n",
    "files = listdir(path)\n",
    "for filename in files:\n",
    "    if '50.npz' not in filename:\n",
    "        continue\n",
    "    images = np.load(join(path,filename))['arr_0']\n",
    "    write_images_to_file(filename[:-4], images, path = path, addendum = '')"
   ]
  },
  {
   "cell_type": "code",
   "execution_count": null,
   "metadata": {
    "collapsed": true
   },
   "outputs": [],
   "source": []
  }
 ],
 "metadata": {
  "kernelspec": {
   "display_name": "Python 3",
   "language": "python",
   "name": "python3"
  },
  "language_info": {
   "codemirror_mode": {
    "name": "ipython",
    "version": 3
   },
   "file_extension": ".py",
   "mimetype": "text/x-python",
   "name": "python",
   "nbconvert_exporter": "python",
   "pygments_lexer": "ipython3",
   "version": "3.5.2"
  }
 },
 "nbformat": 4,
 "nbformat_minor": 1
}
